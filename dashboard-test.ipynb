{
 "cells": [
  {
   "cell_type": "code",
   "execution_count": null,
   "id": "65a87cc3-c641-4747-80fe-7f80671c4499",
   "metadata": {},
   "outputs": [],
   "source": [
    "### K Anna Breimann\n",
    "### 20 May 2025\n"
   ]
  },
  {
   "cell_type": "markdown",
   "id": "9dff3d19-f5cb-4d2b-b2b2-2c6840642b00",
   "metadata": {},
   "source": [
    "# Example Dashboard"
   ]
  },
  {
   "cell_type": "markdown",
   "id": "e00a9d85-5348-415f-9a75-edaade7f0d94",
   "metadata": {},
   "source": [
    "## Discrete distribution as a horizontal bar chart\n",
    "\n",
    "<p>Stacked bar charts can be used to visualize discrete distributions.</p>\n",
    "\n",
    "<p>This example visualizes the result of a survey in which people could rate their agreement to questions on a five-element scale.</p>\n",
    "\n",
    "<p>The horizontal stacking is achieved by calling barh() for each category and passing the starting point as the cumulative sum of the already drawn bars via the parameter left.</p>"
   ]
  },
  {
   "cell_type": "code",
   "execution_count": null,
   "id": "21c5b160-d384-49cd-a411-40490e2fc75a",
   "metadata": {},
   "outputs": [],
   "source": [
    "import matplotlib.pyplot as plt\n",
    "import numpy as np\n",
    "\n",
    "category_names = ['Strongly disagree', 'Disagree',\n",
    "                  'Neither agree nor disagree', 'Agree', 'Strongly agree']\n",
    "results = {\n",
    "    'Question 1': [10, 15, 17, 32, 26],\n",
    "    'Question 2': [26, 22, 29, 10, 13],\n",
    "    'Question 3': [35, 37, 7, 2, 19],\n",
    "    'Question 4': [32, 11, 9, 15, 33],\n",
    "    'Question 5': [21, 29, 5, 5, 40],\n",
    "    'Question 6': [8, 19, 5, 30, 38]\n",
    "}\n",
    "\n",
    "\n",
    "def survey(results, category_names):\n",
    "    \"\"\"\n",
    "    Parameters\n",
    "    ----------\n",
    "    results : dict\n",
    "        A mapping from question labels to a list of answers per category.\n",
    "        It is assumed all lists contain the same number of entries and that\n",
    "        it matches the length of *category_names*.\n",
    "    category_names : list of str\n",
    "        The category labels.\n",
    "    \"\"\"\n",
    "    labels = list(results.keys())\n",
    "    data = np.array(list(results.values()))\n",
    "    data_cum = data.cumsum(axis=1)\n",
    "    category_colors = plt.colormaps['RdYlGn'](\n",
    "        np.linspace(0.15, 0.85, data.shape[1]))\n",
    "\n",
    "    fig, ax = plt.subplots(figsize=(9.2, 5))\n",
    "    ax.invert_yaxis()\n",
    "    ax.xaxis.set_visible(False)\n",
    "    ax.set_xlim(0, np.sum(data, axis=1).max())\n",
    "\n",
    "    for i, (colname, color) in enumerate(zip(category_names, category_colors)):\n",
    "        widths = data[:, i]\n",
    "        starts = data_cum[:, i] - widths\n",
    "        rects = ax.barh(labels, widths, left=starts, height=0.5,\n",
    "                        label=colname, color=color)\n",
    "\n",
    "        r, g, b, _ = color\n",
    "        text_color = 'white' if r * g * b < 0.5 else 'darkgrey'\n",
    "        ax.bar_label(rects, label_type='center', color=text_color)\n",
    "    ax.legend(ncols=len(category_names), bbox_to_anchor=(0, 1),\n",
    "              loc='lower left', fontsize='small')\n",
    "\n",
    "    return fig, ax\n",
    "\n",
    "\n",
    "survey(results, category_names)\n",
    "plt.show()"
   ]
  },
  {
   "cell_type": "markdown",
   "id": "cae6b678-eb6d-45b4-8987-0fdcb2e0be26",
   "metadata": {},
   "source": [
    "## Plotting Stackplots\n",
    "<p>Stackplots draw multiple datasets as vertically stacked areas. This is useful when the individual data values and additionally their cumulative value are of interest.</p>"
   ]
  },
  {
   "cell_type": "code",
   "execution_count": null,
   "id": "c36b47c9-5b87-46e2-9361-20349470662a",
   "metadata": {},
   "outputs": [],
   "source": [
    "import matplotlib.pyplot as plt\n",
    "import numpy as np\n",
    "\n",
    "import matplotlib.ticker as mticker\n",
    "\n",
    "# data from United Nations World Population Prospects (Revision 2019)\n",
    "# https://population.un.org/wpp/, license: CC BY 3.0 IGO\n",
    "year = [1950, 1960, 1970, 1980, 1990, 2000, 2010, 2018]\n",
    "population_by_continent = {\n",
    "    'Africa': [.228, .284, .365, .477, .631, .814, 1.044, 1.275],\n",
    "    'the Americas': [.340, .425, .519, .619, .727, .840, .943, 1.006],\n",
    "    'Asia': [1.394, 1.686, 2.120, 2.625, 3.202, 3.714, 4.169, 4.560],\n",
    "    'Europe': [.220, .253, .276, .295, .310, .303, .294, .293],\n",
    "    'Oceania': [.012, .015, .019, .022, .026, .031, .036, .039],\n",
    "}\n",
    "\n",
    "fig, ax = plt.subplots()\n",
    "ax.stackplot(year, population_by_continent.values(),\n",
    "             labels=population_by_continent.keys(), alpha=0.8)\n",
    "ax.legend(loc='upper left', reverse=True)\n",
    "ax.set_title('World population')\n",
    "ax.set_xlabel('Year')\n",
    "ax.set_ylabel('Number of people (billions)')\n",
    "# add tick at every 200 million people\n",
    "ax.yaxis.set_minor_locator(mticker.MultipleLocator(.2))\n",
    "\n",
    "plt.show()"
   ]
  },
  {
   "cell_type": "markdown",
   "id": "8ea8bab7-6752-4489-9f07-71534829e57d",
   "metadata": {},
   "source": [
    "## Streamgraphs\n",
    "<p>Using the baseline parameter, you can turn an ordinary stacked area plot with baseline 0 into a stream graph.</p>"
   ]
  },
  {
   "cell_type": "code",
   "execution_count": null,
   "id": "ab3337cc-ccfd-4403-903f-a7340b9e699f",
   "metadata": {},
   "outputs": [],
   "source": [
    "# Fixing random state for reproducibility\n",
    "np.random.seed(19680801)\n",
    "\n",
    "def gaussian_mixture(x, n=5):\n",
    "    \"\"\"Return a random mixture of *n* Gaussians, evaluated at positions *x*.\"\"\"\n",
    "    def add_random_gaussian(a):\n",
    "        amplitude = 1 / (.1 + np.random.random())\n",
    "        dx = x[-1] - x[0]\n",
    "        x0 = (2 * np.random.random() - .5) * dx\n",
    "        z = 10 / (.1 + np.random.random()) / dx\n",
    "        a += amplitude * np.exp(-(z * (x - x0))**2)\n",
    "    a = np.zeros_like(x)\n",
    "    for j in range(n):\n",
    "        add_random_gaussian(a)\n",
    "    return a\n",
    "\n",
    "\n",
    "x = np.linspace(0, 100, 101)\n",
    "ys = [gaussian_mixture(x) for _ in range(3)]\n",
    "\n",
    "fig, ax = plt.subplots()\n",
    "ax.stackplot(x, ys, baseline='wiggle')\n",
    "plt.show()"
   ]
  }
 ],
 "metadata": {
  "kernelspec": {
   "display_name": "Python 3 (ipykernel)",
   "language": "python",
   "name": "python3"
  },
  "language_info": {
   "codemirror_mode": {
    "name": "ipython",
    "version": 3
   },
   "file_extension": ".py",
   "mimetype": "text/x-python",
   "name": "python",
   "nbconvert_exporter": "python",
   "pygments_lexer": "ipython3",
   "version": "3.13.3"
  }
 },
 "nbformat": 4,
 "nbformat_minor": 5
}
